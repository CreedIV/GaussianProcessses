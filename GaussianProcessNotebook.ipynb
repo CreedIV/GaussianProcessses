{
 "cells": [
  {
   "cell_type": "markdown",
   "metadata": {},
   "source": [
    "# Gaussian Processes "
   ]
  },
  {
   "cell_type": "markdown",
   "metadata": {},
   "source": [
    "the code for the following page can be found [here](https://github.com/CreedIV/GaussianProcessses), if you download all files and set runlocal = True, all interactive plots will be much more responsive."
   ]
  },
  {
   "cell_type": "code",
   "execution_count": 1,
   "metadata": {
    "scrolled": true
   },
   "outputs": [
    {
     "data": {
      "text/html": [
       "\n",
       "    <div class=\"bk-root\">\n",
       "        <a href=\"https://bokeh.pydata.org\" target=\"_blank\" class=\"bk-logo bk-logo-small bk-logo-notebook\"></a>\n",
       "        <span id=\"1001\">Loading BokehJS ...</span>\n",
       "    </div>"
      ]
     },
     "metadata": {},
     "output_type": "display_data"
    },
    {
     "data": {
      "application/javascript": [
       "\n",
       "(function(root) {\n",
       "  function now() {\n",
       "    return new Date();\n",
       "  }\n",
       "\n",
       "  var force = true;\n",
       "\n",
       "  if (typeof (root._bokeh_onload_callbacks) === \"undefined\" || force === true) {\n",
       "    root._bokeh_onload_callbacks = [];\n",
       "    root._bokeh_is_loading = undefined;\n",
       "  }\n",
       "\n",
       "  var JS_MIME_TYPE = 'application/javascript';\n",
       "  var HTML_MIME_TYPE = 'text/html';\n",
       "  var EXEC_MIME_TYPE = 'application/vnd.bokehjs_exec.v0+json';\n",
       "  var CLASS_NAME = 'output_bokeh rendered_html';\n",
       "\n",
       "  /**\n",
       "   * Render data to the DOM node\n",
       "   */\n",
       "  function render(props, node) {\n",
       "    var script = document.createElement(\"script\");\n",
       "    node.appendChild(script);\n",
       "  }\n",
       "\n",
       "  /**\n",
       "   * Handle when an output is cleared or removed\n",
       "   */\n",
       "  function handleClearOutput(event, handle) {\n",
       "    var cell = handle.cell;\n",
       "\n",
       "    var id = cell.output_area._bokeh_element_id;\n",
       "    var server_id = cell.output_area._bokeh_server_id;\n",
       "    // Clean up Bokeh references\n",
       "    if (id != null && id in Bokeh.index) {\n",
       "      Bokeh.index[id].model.document.clear();\n",
       "      delete Bokeh.index[id];\n",
       "    }\n",
       "\n",
       "    if (server_id !== undefined) {\n",
       "      // Clean up Bokeh references\n",
       "      var cmd = \"from bokeh.io.state import curstate; print(curstate().uuid_to_server['\" + server_id + \"'].get_sessions()[0].document.roots[0]._id)\";\n",
       "      cell.notebook.kernel.execute(cmd, {\n",
       "        iopub: {\n",
       "          output: function(msg) {\n",
       "            var id = msg.content.text.trim();\n",
       "            if (id in Bokeh.index) {\n",
       "              Bokeh.index[id].model.document.clear();\n",
       "              delete Bokeh.index[id];\n",
       "            }\n",
       "          }\n",
       "        }\n",
       "      });\n",
       "      // Destroy server and session\n",
       "      var cmd = \"import bokeh.io.notebook as ion; ion.destroy_server('\" + server_id + \"')\";\n",
       "      cell.notebook.kernel.execute(cmd);\n",
       "    }\n",
       "  }\n",
       "\n",
       "  /**\n",
       "   * Handle when a new output is added\n",
       "   */\n",
       "  function handleAddOutput(event, handle) {\n",
       "    var output_area = handle.output_area;\n",
       "    var output = handle.output;\n",
       "\n",
       "    // limit handleAddOutput to display_data with EXEC_MIME_TYPE content only\n",
       "    if ((output.output_type != \"display_data\") || (!output.data.hasOwnProperty(EXEC_MIME_TYPE))) {\n",
       "      return\n",
       "    }\n",
       "\n",
       "    var toinsert = output_area.element.find(\".\" + CLASS_NAME.split(' ')[0]);\n",
       "\n",
       "    if (output.metadata[EXEC_MIME_TYPE][\"id\"] !== undefined) {\n",
       "      toinsert[toinsert.length - 1].firstChild.textContent = output.data[JS_MIME_TYPE];\n",
       "      // store reference to embed id on output_area\n",
       "      output_area._bokeh_element_id = output.metadata[EXEC_MIME_TYPE][\"id\"];\n",
       "    }\n",
       "    if (output.metadata[EXEC_MIME_TYPE][\"server_id\"] !== undefined) {\n",
       "      var bk_div = document.createElement(\"div\");\n",
       "      bk_div.innerHTML = output.data[HTML_MIME_TYPE];\n",
       "      var script_attrs = bk_div.children[0].attributes;\n",
       "      for (var i = 0; i < script_attrs.length; i++) {\n",
       "        toinsert[toinsert.length - 1].firstChild.setAttribute(script_attrs[i].name, script_attrs[i].value);\n",
       "      }\n",
       "      // store reference to server id on output_area\n",
       "      output_area._bokeh_server_id = output.metadata[EXEC_MIME_TYPE][\"server_id\"];\n",
       "    }\n",
       "  }\n",
       "\n",
       "  function register_renderer(events, OutputArea) {\n",
       "\n",
       "    function append_mime(data, metadata, element) {\n",
       "      // create a DOM node to render to\n",
       "      var toinsert = this.create_output_subarea(\n",
       "        metadata,\n",
       "        CLASS_NAME,\n",
       "        EXEC_MIME_TYPE\n",
       "      );\n",
       "      this.keyboard_manager.register_events(toinsert);\n",
       "      // Render to node\n",
       "      var props = {data: data, metadata: metadata[EXEC_MIME_TYPE]};\n",
       "      render(props, toinsert[toinsert.length - 1]);\n",
       "      element.append(toinsert);\n",
       "      return toinsert\n",
       "    }\n",
       "\n",
       "    /* Handle when an output is cleared or removed */\n",
       "    events.on('clear_output.CodeCell', handleClearOutput);\n",
       "    events.on('delete.Cell', handleClearOutput);\n",
       "\n",
       "    /* Handle when a new output is added */\n",
       "    events.on('output_added.OutputArea', handleAddOutput);\n",
       "\n",
       "    /**\n",
       "     * Register the mime type and append_mime function with output_area\n",
       "     */\n",
       "    OutputArea.prototype.register_mime_type(EXEC_MIME_TYPE, append_mime, {\n",
       "      /* Is output safe? */\n",
       "      safe: true,\n",
       "      /* Index of renderer in `output_area.display_order` */\n",
       "      index: 0\n",
       "    });\n",
       "  }\n",
       "\n",
       "  // register the mime type if in Jupyter Notebook environment and previously unregistered\n",
       "  if (root.Jupyter !== undefined) {\n",
       "    var events = require('base/js/events');\n",
       "    var OutputArea = require('notebook/js/outputarea').OutputArea;\n",
       "\n",
       "    if (OutputArea.prototype.mime_types().indexOf(EXEC_MIME_TYPE) == -1) {\n",
       "      register_renderer(events, OutputArea);\n",
       "    }\n",
       "  }\n",
       "\n",
       "  \n",
       "  if (typeof (root._bokeh_timeout) === \"undefined\" || force === true) {\n",
       "    root._bokeh_timeout = Date.now() + 5000;\n",
       "    root._bokeh_failed_load = false;\n",
       "  }\n",
       "\n",
       "  var NB_LOAD_WARNING = {'data': {'text/html':\n",
       "     \"<div style='background-color: #fdd'>\\n\"+\n",
       "     \"<p>\\n\"+\n",
       "     \"BokehJS does not appear to have successfully loaded. If loading BokehJS from CDN, this \\n\"+\n",
       "     \"may be due to a slow or bad network connection. Possible fixes:\\n\"+\n",
       "     \"</p>\\n\"+\n",
       "     \"<ul>\\n\"+\n",
       "     \"<li>re-rerun `output_notebook()` to attempt to load from CDN again, or</li>\\n\"+\n",
       "     \"<li>use INLINE resources instead, as so:</li>\\n\"+\n",
       "     \"</ul>\\n\"+\n",
       "     \"<code>\\n\"+\n",
       "     \"from bokeh.resources import INLINE\\n\"+\n",
       "     \"output_notebook(resources=INLINE)\\n\"+\n",
       "     \"</code>\\n\"+\n",
       "     \"</div>\"}};\n",
       "\n",
       "  function display_loaded() {\n",
       "    var el = document.getElementById(\"1001\");\n",
       "    if (el != null) {\n",
       "      el.textContent = \"BokehJS is loading...\";\n",
       "    }\n",
       "    if (root.Bokeh !== undefined) {\n",
       "      if (el != null) {\n",
       "        el.textContent = \"BokehJS \" + root.Bokeh.version + \" successfully loaded.\";\n",
       "      }\n",
       "    } else if (Date.now() < root._bokeh_timeout) {\n",
       "      setTimeout(display_loaded, 100)\n",
       "    }\n",
       "  }\n",
       "\n",
       "\n",
       "  function run_callbacks() {\n",
       "    try {\n",
       "      root._bokeh_onload_callbacks.forEach(function(callback) { callback() });\n",
       "    }\n",
       "    finally {\n",
       "      delete root._bokeh_onload_callbacks\n",
       "    }\n",
       "    console.info(\"Bokeh: all callbacks have finished\");\n",
       "  }\n",
       "\n",
       "  function load_libs(js_urls, callback) {\n",
       "    root._bokeh_onload_callbacks.push(callback);\n",
       "    if (root._bokeh_is_loading > 0) {\n",
       "      console.log(\"Bokeh: BokehJS is being loaded, scheduling callback at\", now());\n",
       "      return null;\n",
       "    }\n",
       "    if (js_urls == null || js_urls.length === 0) {\n",
       "      run_callbacks();\n",
       "      return null;\n",
       "    }\n",
       "    console.log(\"Bokeh: BokehJS not loaded, scheduling load and callback at\", now());\n",
       "    root._bokeh_is_loading = js_urls.length;\n",
       "    for (var i = 0; i < js_urls.length; i++) {\n",
       "      var url = js_urls[i];\n",
       "      var s = document.createElement('script');\n",
       "      s.src = url;\n",
       "      s.async = false;\n",
       "      s.onreadystatechange = s.onload = function() {\n",
       "        root._bokeh_is_loading--;\n",
       "        if (root._bokeh_is_loading === 0) {\n",
       "          console.log(\"Bokeh: all BokehJS libraries loaded\");\n",
       "          run_callbacks()\n",
       "        }\n",
       "      };\n",
       "      s.onerror = function() {\n",
       "        console.warn(\"failed to load library \" + url);\n",
       "      };\n",
       "      console.log(\"Bokeh: injecting script tag for BokehJS library: \", url);\n",
       "      document.getElementsByTagName(\"head\")[0].appendChild(s);\n",
       "    }\n",
       "  };var element = document.getElementById(\"1001\");\n",
       "  if (element == null) {\n",
       "    console.log(\"Bokeh: ERROR: autoload.js configured with elementid '1001' but no matching script tag was found. \")\n",
       "    return false;\n",
       "  }\n",
       "\n",
       "  var js_urls = [\"https://cdn.pydata.org/bokeh/release/bokeh-1.0.1.min.js\", \"https://cdn.pydata.org/bokeh/release/bokeh-widgets-1.0.1.min.js\", \"https://cdn.pydata.org/bokeh/release/bokeh-tables-1.0.1.min.js\", \"https://cdn.pydata.org/bokeh/release/bokeh-gl-1.0.1.min.js\"];\n",
       "\n",
       "  var inline_js = [\n",
       "    function(Bokeh) {\n",
       "      Bokeh.set_log_level(\"info\");\n",
       "    },\n",
       "    \n",
       "    function(Bokeh) {\n",
       "      \n",
       "    },\n",
       "    function(Bokeh) {\n",
       "      console.log(\"Bokeh: injecting CSS: https://cdn.pydata.org/bokeh/release/bokeh-1.0.1.min.css\");\n",
       "      Bokeh.embed.inject_css(\"https://cdn.pydata.org/bokeh/release/bokeh-1.0.1.min.css\");\n",
       "      console.log(\"Bokeh: injecting CSS: https://cdn.pydata.org/bokeh/release/bokeh-widgets-1.0.1.min.css\");\n",
       "      Bokeh.embed.inject_css(\"https://cdn.pydata.org/bokeh/release/bokeh-widgets-1.0.1.min.css\");\n",
       "      console.log(\"Bokeh: injecting CSS: https://cdn.pydata.org/bokeh/release/bokeh-tables-1.0.1.min.css\");\n",
       "      Bokeh.embed.inject_css(\"https://cdn.pydata.org/bokeh/release/bokeh-tables-1.0.1.min.css\");\n",
       "    }\n",
       "  ];\n",
       "\n",
       "  function run_inline_js() {\n",
       "    \n",
       "    if ((root.Bokeh !== undefined) || (force === true)) {\n",
       "      for (var i = 0; i < inline_js.length; i++) {\n",
       "        inline_js[i].call(root, root.Bokeh);\n",
       "      }if (force === true) {\n",
       "        display_loaded();\n",
       "      }} else if (Date.now() < root._bokeh_timeout) {\n",
       "      setTimeout(run_inline_js, 100);\n",
       "    } else if (!root._bokeh_failed_load) {\n",
       "      console.log(\"Bokeh: BokehJS failed to load within specified timeout.\");\n",
       "      root._bokeh_failed_load = true;\n",
       "    } else if (force !== true) {\n",
       "      var cell = $(document.getElementById(\"1001\")).parents('.cell').data().cell;\n",
       "      cell.output_area.append_execute_result(NB_LOAD_WARNING)\n",
       "    }\n",
       "\n",
       "  }\n",
       "\n",
       "  if (root._bokeh_is_loading === 0) {\n",
       "    console.log(\"Bokeh: BokehJS loaded, going straight to plotting\");\n",
       "    run_inline_js();\n",
       "  } else {\n",
       "    load_libs(js_urls, function() {\n",
       "      console.log(\"Bokeh: BokehJS plotting callback run at\", now());\n",
       "      run_inline_js();\n",
       "    });\n",
       "  }\n",
       "}(window));"
      ],
      "application/vnd.bokehjs_load.v0+json": "\n(function(root) {\n  function now() {\n    return new Date();\n  }\n\n  var force = true;\n\n  if (typeof (root._bokeh_onload_callbacks) === \"undefined\" || force === true) {\n    root._bokeh_onload_callbacks = [];\n    root._bokeh_is_loading = undefined;\n  }\n\n  \n\n  \n  if (typeof (root._bokeh_timeout) === \"undefined\" || force === true) {\n    root._bokeh_timeout = Date.now() + 5000;\n    root._bokeh_failed_load = false;\n  }\n\n  var NB_LOAD_WARNING = {'data': {'text/html':\n     \"<div style='background-color: #fdd'>\\n\"+\n     \"<p>\\n\"+\n     \"BokehJS does not appear to have successfully loaded. If loading BokehJS from CDN, this \\n\"+\n     \"may be due to a slow or bad network connection. Possible fixes:\\n\"+\n     \"</p>\\n\"+\n     \"<ul>\\n\"+\n     \"<li>re-rerun `output_notebook()` to attempt to load from CDN again, or</li>\\n\"+\n     \"<li>use INLINE resources instead, as so:</li>\\n\"+\n     \"</ul>\\n\"+\n     \"<code>\\n\"+\n     \"from bokeh.resources import INLINE\\n\"+\n     \"output_notebook(resources=INLINE)\\n\"+\n     \"</code>\\n\"+\n     \"</div>\"}};\n\n  function display_loaded() {\n    var el = document.getElementById(\"1001\");\n    if (el != null) {\n      el.textContent = \"BokehJS is loading...\";\n    }\n    if (root.Bokeh !== undefined) {\n      if (el != null) {\n        el.textContent = \"BokehJS \" + root.Bokeh.version + \" successfully loaded.\";\n      }\n    } else if (Date.now() < root._bokeh_timeout) {\n      setTimeout(display_loaded, 100)\n    }\n  }\n\n\n  function run_callbacks() {\n    try {\n      root._bokeh_onload_callbacks.forEach(function(callback) { callback() });\n    }\n    finally {\n      delete root._bokeh_onload_callbacks\n    }\n    console.info(\"Bokeh: all callbacks have finished\");\n  }\n\n  function load_libs(js_urls, callback) {\n    root._bokeh_onload_callbacks.push(callback);\n    if (root._bokeh_is_loading > 0) {\n      console.log(\"Bokeh: BokehJS is being loaded, scheduling callback at\", now());\n      return null;\n    }\n    if (js_urls == null || js_urls.length === 0) {\n      run_callbacks();\n      return null;\n    }\n    console.log(\"Bokeh: BokehJS not loaded, scheduling load and callback at\", now());\n    root._bokeh_is_loading = js_urls.length;\n    for (var i = 0; i < js_urls.length; i++) {\n      var url = js_urls[i];\n      var s = document.createElement('script');\n      s.src = url;\n      s.async = false;\n      s.onreadystatechange = s.onload = function() {\n        root._bokeh_is_loading--;\n        if (root._bokeh_is_loading === 0) {\n          console.log(\"Bokeh: all BokehJS libraries loaded\");\n          run_callbacks()\n        }\n      };\n      s.onerror = function() {\n        console.warn(\"failed to load library \" + url);\n      };\n      console.log(\"Bokeh: injecting script tag for BokehJS library: \", url);\n      document.getElementsByTagName(\"head\")[0].appendChild(s);\n    }\n  };var element = document.getElementById(\"1001\");\n  if (element == null) {\n    console.log(\"Bokeh: ERROR: autoload.js configured with elementid '1001' but no matching script tag was found. \")\n    return false;\n  }\n\n  var js_urls = [\"https://cdn.pydata.org/bokeh/release/bokeh-1.0.1.min.js\", \"https://cdn.pydata.org/bokeh/release/bokeh-widgets-1.0.1.min.js\", \"https://cdn.pydata.org/bokeh/release/bokeh-tables-1.0.1.min.js\", \"https://cdn.pydata.org/bokeh/release/bokeh-gl-1.0.1.min.js\"];\n\n  var inline_js = [\n    function(Bokeh) {\n      Bokeh.set_log_level(\"info\");\n    },\n    \n    function(Bokeh) {\n      \n    },\n    function(Bokeh) {\n      console.log(\"Bokeh: injecting CSS: https://cdn.pydata.org/bokeh/release/bokeh-1.0.1.min.css\");\n      Bokeh.embed.inject_css(\"https://cdn.pydata.org/bokeh/release/bokeh-1.0.1.min.css\");\n      console.log(\"Bokeh: injecting CSS: https://cdn.pydata.org/bokeh/release/bokeh-widgets-1.0.1.min.css\");\n      Bokeh.embed.inject_css(\"https://cdn.pydata.org/bokeh/release/bokeh-widgets-1.0.1.min.css\");\n      console.log(\"Bokeh: injecting CSS: https://cdn.pydata.org/bokeh/release/bokeh-tables-1.0.1.min.css\");\n      Bokeh.embed.inject_css(\"https://cdn.pydata.org/bokeh/release/bokeh-tables-1.0.1.min.css\");\n    }\n  ];\n\n  function run_inline_js() {\n    \n    if ((root.Bokeh !== undefined) || (force === true)) {\n      for (var i = 0; i < inline_js.length; i++) {\n        inline_js[i].call(root, root.Bokeh);\n      }if (force === true) {\n        display_loaded();\n      }} else if (Date.now() < root._bokeh_timeout) {\n      setTimeout(run_inline_js, 100);\n    } else if (!root._bokeh_failed_load) {\n      console.log(\"Bokeh: BokehJS failed to load within specified timeout.\");\n      root._bokeh_failed_load = true;\n    } else if (force !== true) {\n      var cell = $(document.getElementById(\"1001\")).parents('.cell').data().cell;\n      cell.output_area.append_execute_result(NB_LOAD_WARNING)\n    }\n\n  }\n\n  if (root._bokeh_is_loading === 0) {\n    console.log(\"Bokeh: BokehJS loaded, going straight to plotting\");\n    run_inline_js();\n  } else {\n    load_libs(js_urls, function() {\n      console.log(\"Bokeh: BokehJS plotting callback run at\", now());\n      run_inline_js();\n    });\n  }\n}(window));"
     },
     "metadata": {},
     "output_type": "display_data"
    }
   ],
   "source": [
    "from bokeh.io import show, output_notebook\n",
    "from IPython.display import YouTubeVideo\n",
    "from IPython.display import Image,display, Math, Latex, HTML\n",
    "from GP1 import GP1\n",
    "from GP2 import GP2\n",
    "from GP3 import GP3\n",
    "from GP4 import GP4\n",
    "from GP5 import GP5\n",
    "url = 'http://34.222.162.157:5006/gaussianProcesses'\n",
    "iframe1 = '<iframe src=' + url + '1' + ' width=500 height=650></iframe>'\n",
    "iframe2 = '<iframe src=' + url + '2' + ' width=500 height=650></iframe>'\n",
    "iframe3 = '<iframe src=' + url + '3' + ' width=1000 height=650></iframe>'\n",
    "iframe4 = '<iframe src=' + url + '4' + ' width=1000 height=650></iframe>'\n",
    "iframe5 = '<iframe src=' + url + '5' + ' width=1000 height=650></iframe>'\n",
    "runlocal = False\n",
    "import IPython\n",
    "output_notebook()"
   ]
  },
  {
   "cell_type": "markdown",
   "metadata": {},
   "source": [
    "Locality, locality, locality! So is the mantra of Gaussian Processes. \n",
    "It's a well known expression in machine learning which is perhaps best represented by the KNN algorithm. \n",
    "It's born from common sense reasoning: \n",
    "If there exists an unknown function for which its response is given at some points and \n",
    "its response at new point is desired, the most attention should be given to the function \n",
    "response at points near the new point. \n",
    "For almost any reasonable function, the responses at inputs which are close will be correlated. Gaussian Processes make use of this correlation between similar inputs to create regression functions souly using Gaussian distributions, lets see how..."
   ]
  },
  {
   "cell_type": "markdown",
   "metadata": {},
   "source": [
    "This notebook was inspired by a youtube [lecture on Gaussian Processes by Richard Turner](https://www.youtube.com/watch?v=92-98SYOdlY). I've also embedded that leture below. \n",
    "I set out to recreate some of the figures shown in the lecture and make them interactive to allow hands-on exploration. I will repeat some of what Mr. Turner explains in the video to help introduce the plots I provide. I will also derive some fundamental results that are necessary for using Gaussian Processes in linear regression. Most of the math I show can also be found in Christopher Bishops book \"[Pattern Recognition and Machine Learning](https://www.amazon.com/Pattern-Recognition-Learning-Information-Statistics/dp/0387310738)\"."
   ]
  },
  {
   "cell_type": "code",
   "execution_count": 2,
   "metadata": {},
   "outputs": [
    {
     "data": {
      "image/jpeg": "[encoded data removed]",
      "text/html": [
       "\n",
       "        <iframe\n",
       "            width=\"600\"\n",
       "            height=\"500\"\n",
       "            src=\"https://www.youtube.com/embed/92-98SYOdlY\"\n",
       "            frameborder=\"0\"\n",
       "            allowfullscreen\n",
       "        ></iframe>\n",
       "        "
      ],
      "text/plain": [
       "<IPython.lib.display.YouTubeVideo at 0x26a54d9ada0>"
      ]
     },
     "execution_count": 2,
     "metadata": {},
     "output_type": "execute_result"
    }
   ],
   "source": [
    "YouTubeVideo(\"92-98SYOdlY\", width = 600, height=500)"
   ]
  },
  {
   "cell_type": "markdown",
   "metadata": {},
   "source": [
    "# Motivation (problem statement)"
   ]
  },
  {
   "cell_type": "markdown",
   "metadata": {},
   "source": [
    "One problem that can be solved with Gaussian Processes is the problem of linear regression with nonlinear basis functions. \n",
    "So... Looking at the figure below, given the red points we can create a Gaussian Process to predict the values might come from \n",
    "the function given by the darker blue curve,and we can give a measure of uncertainty in our\n",
    "predictions shown by the light blue region."
   ]
  },
  {
   "cell_type": "markdown",
   "metadata": {},
   "source": [
    "(note that the curves only appear non-smooth because I have sampled from a small number of points, \n",
    " part of being a 'reasonable' function is that it will be infinitely differentiable, i.e. smooooth )"
   ]
  },
  {
   "cell_type": "code",
   "execution_count": 3,
   "metadata": {},
   "outputs": [
    {
     "data": {
      "image/jpeg": "[encoded data removed]",
      "text/plain": [
       "<IPython.core.display.Image object>"
      ]
     },
     "execution_count": 3,
     "metadata": {},
     "output_type": "execute_result"
    }
   ],
   "source": [
    "Image(\"plot1.jpeg\")"
   ]
  },
  {
   "cell_type": "markdown",
   "metadata": {},
   "source": [
    "# Definitions"
   ]
  },
  {
   "cell_type": "markdown",
   "metadata": {},
   "source": [
    "The definition of a [Gaussian Process](https://en.wikipedia.org/wiki/Gaussian_process) is that it is a collection of [random variables](https://en.wikipedia.org/wiki/Random_variable) with the property that any finite subset of them will have a [multivariate normal distribution (MVN)](https://en.wikipedia.org/wiki/Multivariate_normal_distribution). In our regression problem the random variables of the Gaussian Process will be the predicted and given function responces, y = f(x). They will be related to each other through the MVN distribution and sampling that distribution returns a regression function. Because we normally have no apriori knowledge of the function we are trying to predict, we normally assume a zero mean, and so only the covariance matrix of the MVN needs to be determined. As we shall see, we normally determine the covariance matrix by a function which we call the kernel. We will sovle the linear regression problem using basically only the MVN, so lets make sure we are familiar with it as we build our way up to creating a Gaussian Process. "
   ]
  },
  {
   "cell_type": "markdown",
   "metadata": {},
   "source": [
    "We start with the smallest number of dimensions, two. In two dimensions the [pdf](https://en.wikipedia.org/wiki/Probability_density_function) for the MVN takes the form: "
   ]
  },
  {
   "cell_type": "markdown",
   "metadata": {},
   "source": [
    "$$p(\\textbf{y}) = \\mathcal{N}(\\textbf{y}\\mid \\mu, \\Sigma) = \\frac{1}{2\\pi}{\\mid\\Sigma\\mid}^{-\\frac{1}{2}} e^{(\\textbf{y} - \\mu)^T\\Sigma^{-1}(\\textbf{y} - \\mu)} $$\n",
    "where \n",
    "$$\\textbf{y} = \\left[ {\\begin{array}{c} y_1 \\\\ y_2 \\end{array}}\\right], \\mu = \\left[ {\\begin{array}{c} \\mu_1 \\\\ \\mu_2 \\end{array}}\\right],\n",
    "\\Sigma = \\left[ {\\begin{array}{cc} \n",
    "\\sigma_{11} & \\sigma_{12} \\\\\n",
    "\\sigma_{21} & \\sigma_{22}\n",
    "\\end{array}} \\right]$$"
   ]
  },
  {
   "cell_type": "markdown",
   "metadata": {},
   "source": [
    "$$ \n",
    "\\sigma_{11} \\text{ is the variance of } y_1, \\\\\n",
    "\\sigma_{22}  \\text{ is the variance of } y_2, \\\\\n",
    "\\text{ and } \\sigma_{12}=\\sigma_{21} \\text{ is the covariance between } y_1 \\text{ and } y_2$$\n",
    "As I said we normally assume the mean is zero \n",
    "$$  \\mu = \\left[ {\\begin{array}{c} 0 \\\\ 0 \\end{array}}\\right]$$\n",
    "so we end up with \n",
    "$$p(\\textbf{y}) = \\mathcal{N}(\\textbf{y}\\mid \\textbf{0}, \\Sigma) = \\frac{1}{2\\pi}{\\mid\\Sigma\\mid}^{-\\frac{1}{2}} e^{\\textbf{y}^T\\Sigma^{-1}\\textbf{y}} $$"
   ]
  },
  {
   "cell_type": "markdown",
   "metadata": {},
   "source": [
    "# Plot 1"
   ]
  },
  {
   "cell_type": "markdown",
   "metadata": {},
   "source": [
    "The plot below shows a couple contour lines and a number of samples from the two-dimensional MVN with zero mean. Each of the variables have a [variance](https://en.wikipedia.org/wiki/Variance) of 1, and you can change the number of samples and [covariance](https://en.wikipedia.org/wiki/Covariance) between the two variables. Notice that when the covariance is near 0, the variable values tend to be unrelated and spread evenly in a circle around the orgin. When the covariance is near 1, the variable values tend to be near each other and the points concentrate along the diagonal, y1=y2."
   ]
  },
  {
   "cell_type": "code",
   "execution_count": 3,
   "metadata": {},
   "outputs": [
    {
     "data": {
      "text/html": [
       "<iframe src=http://34.222.162.157:5006/gaussianProcesses1 width=500 height=650></iframe>"
      ],
      "text/plain": [
       "<IPython.core.display.HTML object>"
      ]
     },
     "execution_count": 3,
     "metadata": {},
     "output_type": "execute_result"
    }
   ],
   "source": [
    "if runlocal:\n",
    "    func= show\n",
    "    arg = GP1\n",
    "else:\n",
    "    func = HTML\n",
    "    arg = iframe1\n",
    "func(arg)"
   ]
  },
  {
   "cell_type": "markdown",
   "metadata": {},
   "source": [
    "One key property of the MVN distribution is that if you are given values for a subset of the random variables, the remaining random variables will still have a Gaussian distribution. \n",
    "So they will still have a MVN distribution unless only one variable remains, then it will have a [Univariate Normal distribution](https://en.wikipedia.org/wiki/Normal_distribution). That is if condition the MVN distribution on some of the variables, the [conditional distribution](https://en.wikipedia.org/wiki/Conditional_probability_distribution) will still be MVN."
   ]
  },
  {
   "cell_type": "markdown",
   "metadata": {},
   "source": [
    "# Derivation of Conditional Distribution"
   ]
  },
  {
   "cell_type": "markdown",
   "metadata": {},
   "source": [
    "We can compute the analytic form of the conditional distribution as follows (feel free to skip to the text right above the next plot if you want to avoid following some computations):\n",
    "First we permute our variables so that all the given (conditioning) variables come after the undetermined variables, when we do this we also need to permute the mean vector and the [covariance matrix](https://en.wikipedia.org/wiki/Covariance_matrix)."
   ]
  },
  {
   "cell_type": "markdown",
   "metadata": {},
   "source": [
    "Given our vector of random variables y, some of which have given values and some of which do not, we determine the needed [permution matrix](https://en.wikipedia.org/wiki/Permutation_matrix) P such that,\n",
    "$$\n",
    "P\\textbf{y} = \\left[ {\\begin{array}{c} \\textbf{y}_a \\\\ \\textbf{y}_b \\end{array}}\\right],\\\\\n",
    "\\textbf{y}_b \\text{ is the vector of given variables, and } \\\\ \n",
    "\\textbf{y}_a \\text{ is the vector of unknown variables.} \n",
    "$$\n",
    "We then use properties of permutation matrices, determinants and inverses to get the following and permute our whole MVN;\n",
    "$$ \\textbf{y}^T\\Sigma^{-1}\\textbf{y} = \n",
    "\\textbf{y}^TP^TP\\Sigma^{-1}P^TP\\textbf{y} = \n",
    "(P\\textbf{y})^T(P\\Sigma^{-1}P^T)(P\\textbf{y}) = \n",
    "(P\\textbf{y})^T(P\\Sigma P^T)^{-1}(P\\textbf{y})$$\n",
    "and \n",
    "$${\\mid\\Sigma\\mid}^{-\\frac{1}{2}} =\n",
    "(\\mid P\\mid \\mid P^T \\mid \\mid \\Sigma \\mid)^{-\\frac{1}{2}} = \n",
    "(\\mid P \\mid  \\mid \\Sigma \\mid \\mid P^T \\mid)^{-\\frac{1}{2}} = \n",
    "(\\mid P \\Sigma  P^T \\mid)^{-\\frac{1}{2}} \n",
    "$$\n",
    "This then allows us, by insertion of the identy matrix, to [partition](https://en.wikipedia.org/wiki/Block_matrix) our (joint) MVN in the form,\n",
    "$$ \\mathcal{N}(\\textbf{y'}\\mid \\mu', \\Sigma') = \\mathcal{N}(P\\textbf{y}\\mid P\\mu, P\\Sigma P^T) $$where \n",
    "$$\\textbf{y'} = \\left[ {\\begin{array}{c} \\textbf{y}_a \\\\ \\textbf{y}_b \\end{array}}\\right], \\mu' = \\left[ {\\begin{array}{c} \\mathbf{\\mu_a} \\\\ \\mathbf{\\mu_b} \\end{array}}\\right],\n",
    "\\Sigma' = \\left[ {\\begin{array}{cc} \n",
    "\\Sigma_{aa} & \\Sigma_{ab} \\\\\n",
    "\\Sigma_{ba} & \\Sigma_{bb}\n",
    "\\end{array}} \\right]$$\n",
    "We henceforth assume our original MVN was partitioned this way and dont write any ' or P matrices.\n",
    "The inverse of the covariance matrix is called the precision matrix. Here we find it useful to work with the partioned form of the precision matrix,\n",
    "$$\n",
    "\\Sigma^{-1} = \\Lambda =  \\left[ {\\begin{array}{cc} \n",
    "\\Lambda_{aa} & \\Lambda_{ab} \\\\\n",
    "\\Lambda_{ba} & \\Lambda_{bb}\n",
    "\\end{array}} \\right]$$\n",
    "There is a useful [formula](http://en.wikipedia.org/wiki/Matrix_inverse#Blockwise_inversion) for the relation between the partioned covariance matrix and the partioned precision matrix which we will need later. We want to determine the pdf of the conditional distribution \n",
    "$$p(\\textbf{y}_a \\mid \\textbf{y}_b).$$\n",
    "The product rule of probability tells us, $$ p(\\textbf{y}_a \\mid \\textbf{y}_b) = \\frac{p(\\textbf{y}_a, \\textbf{y}_b)}{ p(\\textbf{y}_b)} $$\n",
    "This means that the conditional distribution as a function of y_a is proportional to the joint distribution, so to determine the desired conditional pdf we only need to take our original joint pdf, fix the given values, and normalize the result. Actually, as we will see, we can use this fact to observe the form of the distribution after fixing the given values, see the the form is that of a gaussian distribution and just determine the parameters (mean, and variance) of that distribution. Using the partioning we have formed we focus on the variable parts of the joint pdf\n",
    "$$ -\\frac{1}{2}(\\textbf{y} - \\mathbf{\\mu})^T\\Sigma^{-1}(\\textbf{y} - \\mathbf{\\mu}) = \\\\\n",
    "-\\frac{1}{2}(\\textbf{y}_a -\\mathbf{\\mu_a})^T\\Lambda_{aa} (\\textbf{y}_a - \\mathbf{\\mu_a})\n",
    "-\\frac{1}{2}(\\textbf{y}_a -\\mathbf{\\mu_a})^T\\Lambda_{ab} (\\textbf{y}_b - \\mathbf{\\mu_b})\n",
    "-\\frac{1}{2}(\\textbf{y}_b -\\mathbf{\\mu_b})^T\\Lambda_{ba} (\\textbf{y}_a - \\mathbf{\\mu_a})\n",
    "-\\frac{1}{2}(\\textbf{y}_b -\\mathbf{\\mu_b})^T\\Lambda_{bb} (\\textbf{y}_b - \\mathbf{\\mu_b})\\\\ = \n",
    "Q(\\textbf{y}_a,\\textbf{y}_a)\n",
    "$$ \n",
    "When y_b is given we are only interested in how this is a function of y_a, any part not involving y_a is constant and will be taken care of when we normalize the distribution. As a funtion of y_a this is a quadratic form and therefore our conditional distribution will be of the form:\n",
    "$$ p(\\textbf{y}_a \\mid \\textbf{y}_b) = C e^{Q(\\textbf{y}_a,\\textbf{y}_a)}\n",
    "$$\n",
    "Any distribution of this form is a guassian. We can see that by multiplying out the exponent of the MVN.\n",
    "$$ -\\frac{1}{2}(\\textbf{y} - \\mathbf{\\mu})^T\\Sigma^{-1}(\\textbf{y} - \\mathbf{\\mu}) = \\\\\n",
    "-\\frac{1}{2}\\textbf{y}^T\\Sigma^{-1}\\textbf{y} + \\textbf{y}^T\\Sigma^{-1}\\mathbf{\\mu} + C \n",
    "$$\n",
    "Because we see our conditional distribution is gaussian, and we know that any gaussian distribution is completely specified by its mean and covariance, we can ignore the problem of normalizing and just determine the mean and covariance matrix. We see that the squared terms of the quadratic form will determine the inverse covariance matrix and the linear terms will be determine the product of the inverse covariance times the mean. So by equating parts we conclude\n",
    "$$ \\Sigma_{a \\mid b} = \\Lambda_{aa}^{-1}\\\\\n",
    "\\text{ and } \\\\\n",
    "\\mu_{a \\mid b} = \\Sigma_{a \\mid b}(\\Lambda_{aa}\\mu_{a} - \\Lambda_{ab}(\\textbf{y}_b - \\mathbf{\\mu}_b)) = \n",
    "\\mu_{a} - \\Lambda_{aa}^{-1}\\Lambda_{ab}(y_b - \\mu_b)\n",
    "$$\n",
    "using the formula to relate the inverse of the partitioned covariance matrix to the partitioned precision matrix, we get the important formulas:\n",
    "$$ \n",
    "\\mu_{a \\mid b} = \\mu_{a} + \\Sigma_{ab}\\Sigma_{bb}^{-1}(y_b - \\mu_b)   \\\\\n",
    "\\Sigma_{a \\mid b} = \\Sigma_{aa} - \\Sigma_{ab} \\Sigma_{bb}^{-1}\\Sigma_{ba}\n",
    "$$\n",
    "These completely determine our conditional distribution and are the heart of Gaussian Processes for nonlinear regression."
   ]
  },
  {
   "cell_type": "markdown",
   "metadata": {},
   "source": [
    "Ok, lets return from our mathematical digression where we have seen how to get the conditional gaussian distribution from a joint gaussian distribution. Let's now use these results to explore the behavior of conditional distribution with more plots."
   ]
  },
  {
   "cell_type": "markdown",
   "metadata": {},
   "source": [
    "# Plot 2"
   ]
  },
  {
   "cell_type": "markdown",
   "metadata": {},
   "source": [
    "In the plot below we fix y1 as given and then sample y2. The distribution of y2 given y1 will be a univariate normal, and the pdf is shown in the red curve. From what we have derived above and using 0 mean and var(y_1) = var(y_2) = 1, the distribution of y2 will be normally distributed with \n",
    "$$\n",
    "\\mu = \\mu_{a \\mid b} =  \\sigma_{ab} y_1 \\\\\n",
    "\\sigma = \\sigma_{a \\mid b} = 1 -  \\sigma_{ab} ^2\n",
    "$$\n",
    "Imagine the red curve is coming out of the screen, this is a slice of the two dimentional gaussian along the vertical axis. You can see the effect of the pdf and samples as the covariance and given value of y1 change. Also notice how the uncertainty as messured by the conditional standard deviation (width of the conditional pdf) changes as the covariance changes."
   ]
  },
  {
   "cell_type": "code",
   "execution_count": 4,
   "metadata": {},
   "outputs": [
    {
     "data": {
      "text/html": [
       "<iframe src=http://34.222.162.157:5006/gaussianProcesses2 width=500 height=650></iframe>"
      ],
      "text/plain": [
       "<IPython.core.display.HTML object>"
      ]
     },
     "execution_count": 4,
     "metadata": {},
     "output_type": "execute_result"
    }
   ],
   "source": [
    "if runlocal:\n",
    "    func= show\n",
    "    arg = GP2\n",
    "else:\n",
    "    func = HTML\n",
    "    arg = iframe2\n",
    "func(arg)"
   ]
  },
  {
   "cell_type": "markdown",
   "metadata": {},
   "source": [
    "# Plot 3"
   ]
  },
  {
   "cell_type": "markdown",
   "metadata": {},
   "source": [
    "To increase the dimension and step towards our regression function we introduce a new way to visualize the samples from a two-dimensional gaussian.\n",
    "In the figure below on the left we have our normal 2-d gaussian, a few contour lines and a single sample point. In the figure on the right we plot that single point in a different way.\n",
    "We take that single sample and plot the variable value vs the variable index. If our two dimensional sample is [y1, y2] we plot the points\n",
    "(1,y1) and (2,y2), i.g. [.8, 1.2] gets plotted as (1,.8) and (2,1.2). Now we can see that as the variables are more correlated their heights will be closer together and the the less correlated they are the more the heights tend to be different."
   ]
  },
  {
   "cell_type": "code",
   "execution_count": 6,
   "metadata": {},
   "outputs": [
    {
     "data": {
      "text/html": [
       "<iframe src=http://34.222.162.157:5006/gaussianProcesses3 width=1000 height=650></iframe>"
      ],
      "text/plain": [
       "<IPython.core.display.HTML object>"
      ]
     },
     "execution_count": 6,
     "metadata": {},
     "output_type": "execute_result"
    }
   ],
   "source": [
    "if runlocal:\n",
    "    func= show\n",
    "    arg = GP3\n",
    "else:\n",
    "    func = HTML\n",
    "    arg = iframe3\n",
    "func(arg)"
   ]
  },
  {
   "cell_type": "markdown",
   "metadata": {},
   "source": [
    "# Plot 4"
   ]
  },
  {
   "cell_type": "markdown",
   "metadata": {},
   "source": [
    "We can similarly fix one of the variables to a given value and sample the other. Note how a high covariance pins the sampled height close to the given value while a low covariance allows the adjacent point to be far from the given point. "
   ]
  },
  {
   "cell_type": "code",
   "execution_count": 7,
   "metadata": {},
   "outputs": [
    {
     "data": {
      "text/html": [
       "<iframe src=http://34.222.162.157:5006/gaussianProcesses4 width=1000 height=650></iframe>"
      ],
      "text/plain": [
       "<IPython.core.display.HTML object>"
      ]
     },
     "execution_count": 7,
     "metadata": {},
     "output_type": "execute_result"
    }
   ],
   "source": [
    "if runlocal:\n",
    "    func= show\n",
    "    arg = GP4\n",
    "else:\n",
    "    func = HTML\n",
    "    arg = iframe4\n",
    "func(arg)"
   ]
  },
  {
   "cell_type": "markdown",
   "metadata": {},
   "source": [
    "# Plot 5"
   ]
  },
  {
   "cell_type": "markdown",
   "metadata": {},
   "source": [
    "Now lets increase the number of dimensions. In the plot below we sample from a 3 to 20 dimensional gaussian. We can change the number of given points and change the covariance between the points with the theta_1 slider.\n",
    "A small theta_1 is high covariance, notice how a high covariance will produce little variability in the sampled curves, while a low covariance will produce samples that squirm all over the place."
   ]
  },
  {
   "cell_type": "markdown",
   "metadata": {},
   "source": [
    "The covariance matrix for this plot is formed by using the following function to compute its entries:\n",
    "$$\n",
    " kernel(x1,x2) = e^{-\\frac{\\theta_1}{2}(x1-x2)^2}\n",
    "$$\n",
    "where x1, x2 take on the values 1,2,..., num_points. Note increasing theta_1 will reduce the covariance between all unequal inputs"
   ]
  },
  {
   "cell_type": "code",
   "execution_count": 8,
   "metadata": {},
   "outputs": [
    {
     "data": {
      "text/html": [
       "<iframe src=http://34.222.162.157:5006/gaussianProcesses5 width=1000 height=650></iframe>"
      ],
      "text/plain": [
       "<IPython.core.display.HTML object>"
      ]
     },
     "execution_count": 8,
     "metadata": {},
     "output_type": "execute_result"
    }
   ],
   "source": [
    "if runlocal:\n",
    "    func= show\n",
    "    arg = GP5\n",
    "else:\n",
    "    func = HTML\n",
    "    arg = iframe5\n",
    "func(arg)"
   ]
  },
  {
   "cell_type": "markdown",
   "metadata": {},
   "source": [
    "# Review/Overview/Summary"
   ]
  },
  {
   "cell_type": "markdown",
   "metadata": {},
   "source": [
    "Now this is starting to look like nonlinear regression... But it might seem artificial, perhaps your wondering about our restriction of x to take integer values.\n",
    "Lets review what we have learned to do. We can take a set values we want to evaluate our function at,\n",
    "$$\n",
    "\\mathcal{C} = \\{ x_{1}, \\cdots , x_{M} \\} = \\{ \\mathbf{x}_a \\}\n",
    "$$\n",
    "and a setof given data,\n",
    "$$ \n",
    "\\mathcal{D} = \\{ (x_{M+1}, y_{M+1}), (x_{M+2}, y_{M+2}), \\cdots , (x_{M+N}, y_{M+N}) \\} = \\{ (\\mathbf{x}_b, \\mathbf{y}_b) \\}\n",
    "$$\n",
    "If we form a joint distribution over the whole set of values,\n",
    "$$ \\mathbf{y} = [ y_1, y_2, \\cdots , y_M, y_{M+1}, \\cdots ,y_{M+N} ]^T \\\\\n",
    "p(\\mathbf{y}) = \\mathcal{N}(\\mathbf{y} \\mid \\mathbf{0}, \\Sigma),\n",
    "$$ \n",
    "with\n",
    "$$\n",
    "\\Sigma = \\left[ {\\begin{array}{cc} \n",
    "\\Sigma_{aa} & \\Sigma_{ab} \\\\\n",
    "\\Sigma_{ba} & \\Sigma_{bb}\n",
    "\\end{array}} \\right]\n",
    "$$\n",
    "then we can create a conditional distribution over the unknown y's given the known y's by using the formule we have derived.\n",
    "$$ \n",
    "p(\\mathbf{y}_a \\mid \\mathbf{y}_b) = \\mathcal{N}(\\mathbf{y}_a \\mid \\mu_{a \\mid b}, \\Sigma_{a \\mid b})\\\\\n",
    "\\mu_{a \\mid b} = \\Sigma_{ab}\\Sigma_{bb}^{-1}y_b  \\\\\n",
    "\\Sigma_{a \\mid b} = \\Sigma_{aa} - \\Sigma_{ab} \\Sigma_{bb}^{-1}\n",
    "$$\n",
    "All that we haven't shown how to do is form the covariance matrix."
   ]
  },
  {
   "cell_type": "markdown",
   "metadata": {},
   "source": [
    "There are many ways we can create the covariance matrix, we saw one in plot 5. It turns out that the elements of the covariance matrix can be formed by any positive definite function of the form:\n",
    "$$\n",
    "k(x_m, x_n): \\mathcal{R}^D \\times \\mathcal{R}^D \\rightarrow \\mathcal{R}\n",
    "$$\n",
    "We call such a function a kernel.\n",
    "Note that the x vectors are allowed to be arbitrary D dimensional vectors. There has been no explicit use of the x values in our Guassian Process formulation, so we can easily permit its use in D-dimensional linear regression.\n",
    "    "
   ]
  },
  {
   "cell_type": "markdown",
   "metadata": {},
   "source": [
    "# Gaussian Process from basis function regression"
   ]
  },
  {
   "cell_type": "markdown",
   "metadata": {},
   "source": [
    "Let's see how we can determine the kernel used in the tradition linear regression with basis functions. Recall that the linear regression model with a set of basis functions takes the form.\n",
    "$$\n",
    "y(\\mathbf{x}, \\mathbf{w}) = \\sum_{j=0}^{M-1} w_j\\phi_j(\\mathbf{x}) = \\mathbf{w}^T\\mathbf{\\phi(x)}\n",
    "$$\n",
    "where\n",
    "$$ \\mathbf{w} = ( w_0, \\cdots, w_{M-1})^T \\\\\n",
    "\\text{ and } \\\\\n",
    "\\mathbf{\\phi} = ( \\phi_0, \\cdots, \\phi_{M-1})^T \\text{ with } \\phi_0(\\mathbf{x}) = 1 \n",
    "$$\n",
    "the basis funtions, phi_j, are normally prechoosen and we seek to determine the w_j.\n",
    "If we are given some data relating x and y,\n",
    "$$\n",
    "\\mathcal{D} = \\{ (x_{1}, y_{1}), (x_{2}, y_{2}), \\cdots , (x_{N}, y_{N}) \\}\n",
    "$$\n",
    "\n",
    "we relate them through our regression model as\n",
    "$$\n",
    "\\mathbf{y} = \\Phi\\mathbf{w} = \n",
    "\\begin{bmatrix} \n",
    "\\mathbf{\\phi(x_1)}  \\\\\n",
    "\\vdots \\\\\n",
    "\\mathbf{\\phi(x_N)}\n",
    "\\end{bmatrix} \n",
    "\\begin{bmatrix} \n",
    "w_1 \\\\ \\vdots \\\\ w_N \n",
    "\\end{bmatrix} \n",
    "= \\begin{bmatrix} \n",
    "\\phi_1(x_1) \\cdots \\phi_M(x_1)  \\\\\n",
    "\\vdots \\ddots \\vdots\\\\\n",
    "\\phi_1(x_N) \\cdots \\phi_M(x_N)\n",
    "\\end{bmatrix} \n",
    "\\begin{bmatrix} \n",
    "w_1 \\\\ \\vdots \\\\ w_N \n",
    "\\end{bmatrix} \\\\\n",
    "\\Phi \\text{ is called the design matrix}\n",
    "$$"
   ]
  },
  {
   "cell_type": "markdown",
   "metadata": {},
   "source": [
    "Since the w_j are unknown variables, lets consider them as random variables.\n",
    "Assume that they come from a gaussian distribution with mean 0.\n",
    "$$\n",
    "p(w) = \\mathcal{N}(\\mathbf{w} \\mid \\mathbf{0}, \\alpha^{-1} \\mathbf{I})\n",
    "$$\n",
    "Then since the y_j are a linear combination of the gaussian w_j, they will also have a gaussian distribution. We can determine their mean and covariance matrix as follows:\n",
    "$$\n",
    "\\mathbf{E}(\\mathbf{y}) = \\Phi \\mathbf{E}[\\mathbf{w}] = \\mathbf{0} \\\\\n",
    "cov[\\mathbf{y}] = \\mathbf{E}[(\\mathbf{y} - \\mathbf{E}[\\mathbf{y}])^T(\\mathbf{y} - \\mathbf{E}[\\mathbf{y}])] = \\mathbf{E}[\\mathbf{y}^T\\mathbf{y}] = \\Phi \\mathbf{E}[\\mathbf{ww}^T] \\Phi^T = \\frac{1}{\\alpha}\\Phi \\Phi^T = \\mathbf{K}\n",
    "$$\n",
    "where K is called the Gram matrix and has elements,\n",
    "$$\n",
    "K_{nm} = k(x_n,x_m) = \\frac{1}{\\alpha}\\mathbf{\\phi}(\\mathbf{x_n})^T\\mathbf{\\phi}(\\mathbf{x_m})\n",
    "$$\n",
    "So once again we have a zero mean MVN distribution for the output values and we see how to form the covariance matrix."
   ]
  },
  {
   "cell_type": "code",
   "execution_count": null,
   "metadata": {},
   "outputs": [],
   "source": []
  }
 ],
 "metadata": {
  "kernelspec": {
   "display_name": "Python 3",
   "language": "python",
   "name": "python3"
  },
  "language_info": {
   "codemirror_mode": {
    "name": "ipython",
    "version": 3
   },
   "file_extension": ".py",
   "mimetype": "text/x-python",
   "name": "python",
   "nbconvert_exporter": "python",
   "pygments_lexer": "ipython3",
   "version": "3.6.5"
  }
 },
 "nbformat": 4,
 "nbformat_minor": 2
}
